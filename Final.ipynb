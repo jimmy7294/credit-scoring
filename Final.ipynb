{
 "cells": [
  {
   "cell_type": "markdown",
   "id": "30128a79",
   "metadata": {
    "papermill": {
     "duration": 0.003604,
     "end_time": "2024-05-05T02:11:43.883880",
     "exception": false,
     "start_time": "2024-05-05T02:11:43.880276",
     "status": "completed"
    },
    "tags": []
   },
   "source": [
    "# Loading the test dataset and LGBM model"
   ]
  },
  {
   "cell_type": "code",
   "execution_count": 18,
   "id": "4dd4ebed",
   "metadata": {},
   "outputs": [],
   "source": [
    "!pip3 install -q -U lightgbm\n",
    "!pip3 install -q -U xgboost\n",
    "!pip3 install -q -U catboost"
   ]
  },
  {
   "cell_type": "code",
   "execution_count": 19,
   "id": "d881c224",
   "metadata": {
    "execution": {
     "iopub.execute_input": "2024-05-05T02:11:43.892868Z",
     "iopub.status.busy": "2024-05-05T02:11:43.891848Z",
     "iopub.status.idle": "2024-05-05T02:11:47.851888Z",
     "shell.execute_reply": "2024-05-05T02:11:47.850449Z"
    },
    "papermill": {
     "duration": 3.967009,
     "end_time": "2024-05-05T02:11:47.854162",
     "exception": false,
     "start_time": "2024-05-05T02:11:43.887153",
     "status": "completed"
    },
    "tags": []
   },
   "outputs": [],
   "source": [
    "# Loading the python pacakges and Libraries\n",
    "\n",
    "import os\n",
    "import numpy as np\n",
    "import pandas as pd\n",
    "import joblib\n",
    "from lightgbm import LGBMClassifier\n",
    "from sklearn.metrics import roc_auc_score\n",
    "import gc\n",
    "import seaborn as sns\n",
    "from lightgbm import LGBMClassifier\n",
    "from catboost import CatBoostClassifier\n",
    "from sklearn.metrics import roc_auc_score\n",
    "from sklearn.pipeline import Pipeline\n",
    "from sklearn.impute import SimpleImputer\n",
    "from sklearn.compose import ColumnTransformer\n",
    "from sklearn.preprocessing import OneHotEncoder, StandardScaler\n",
    "from sklearn.model_selection import train_test_split\n",
    "from scipy.stats import kurtosis\n",
    "from sklearn.model_selection import train_test_split, cross_val_score, StratifiedKFold\n",
    "from sklearn.preprocessing import MinMaxScaler"
   ]
  },
  {
   "cell_type": "markdown",
   "id": "cc03454d",
   "metadata": {
    "papermill": {
     "duration": 0.002664,
     "end_time": "2024-05-05T02:11:47.859975",
     "exception": false,
     "start_time": "2024-05-05T02:11:47.857311",
     "status": "completed"
    },
    "tags": []
   },
   "source": [
    "## Loading the test dataset"
   ]
  },
  {
   "cell_type": "code",
   "execution_count": 20,
   "id": "07dde7d8",
   "metadata": {
    "execution": {
     "iopub.execute_input": "2024-05-05T02:11:47.867831Z",
     "iopub.status.busy": "2024-05-05T02:11:47.867334Z",
     "iopub.status.idle": "2024-05-05T02:11:52.290729Z",
     "shell.execute_reply": "2024-05-05T02:11:52.289657Z"
    },
    "papermill": {
     "duration": 4.430126,
     "end_time": "2024-05-05T02:11:52.292947",
     "exception": false,
     "start_time": "2024-05-05T02:11:47.862821",
     "status": "completed"
    },
    "tags": []
   },
   "outputs": [
    {
     "data": {
      "text/html": [
       "<div>\n",
       "<style scoped>\n",
       "    .dataframe tbody tr th:only-of-type {\n",
       "        vertical-align: middle;\n",
       "    }\n",
       "\n",
       "    .dataframe tbody tr th {\n",
       "        vertical-align: top;\n",
       "    }\n",
       "\n",
       "    .dataframe thead th {\n",
       "        text-align: right;\n",
       "    }\n",
       "</style>\n",
       "<table border=\"1\" class=\"dataframe\">\n",
       "  <thead>\n",
       "    <tr style=\"text-align: right;\">\n",
       "      <th></th>\n",
       "      <th>SK_ID_CURR</th>\n",
       "      <th>NAME_CONTRACT_TYPE</th>\n",
       "      <th>CODE_GENDER</th>\n",
       "      <th>FLAG_OWN_CAR</th>\n",
       "      <th>AMT_INCOME_TOTAL</th>\n",
       "      <th>AMT_CREDIT</th>\n",
       "      <th>AMT_ANNUITY</th>\n",
       "      <th>AMT_GOODS_PRICE</th>\n",
       "      <th>NAME_TYPE_SUITE</th>\n",
       "      <th>NAME_INCOME_TYPE</th>\n",
       "      <th>...</th>\n",
       "      <th>PREV_LAST24M_DAYS_LAST_DUE_1ST_VERSION_MAX</th>\n",
       "      <th>PREV_LAST24M_DAYS_LAST_DUE_1ST_VERSION_MEAN</th>\n",
       "      <th>PREV_LAST24M_APPLICATION_CREDIT_DIFF_MIN</th>\n",
       "      <th>PREV_LAST24M_APPLICATION_CREDIT_RATIO_MIN</th>\n",
       "      <th>PREV_LAST24M_APPLICATION_CREDIT_RATIO_MAX</th>\n",
       "      <th>PREV_LAST24M_APPLICATION_CREDIT_RATIO_MEAN</th>\n",
       "      <th>PREV_LAST24M_NAME_CONTRACT_TYPE_Consumer loans_MEAN</th>\n",
       "      <th>PREV_LAST24M_NAME_CONTRACT_TYPE_Cash loans_MEAN</th>\n",
       "      <th>PREV_LAST24M_NAME_CONTRACT_TYPE_Revolving loans_MEAN</th>\n",
       "      <th>TARGET</th>\n",
       "    </tr>\n",
       "  </thead>\n",
       "  <tbody>\n",
       "    <tr>\n",
       "      <th>0</th>\n",
       "      <td>100001</td>\n",
       "      <td>0</td>\n",
       "      <td>1</td>\n",
       "      <td>0</td>\n",
       "      <td>135000.0</td>\n",
       "      <td>568800.0</td>\n",
       "      <td>20560.5</td>\n",
       "      <td>450000.0</td>\n",
       "      <td>0</td>\n",
       "      <td>0</td>\n",
       "      <td>...</td>\n",
       "      <td>NaN</td>\n",
       "      <td>NaN</td>\n",
       "      <td>NaN</td>\n",
       "      <td>NaN</td>\n",
       "      <td>NaN</td>\n",
       "      <td>NaN</td>\n",
       "      <td>NaN</td>\n",
       "      <td>NaN</td>\n",
       "      <td>NaN</td>\n",
       "      <td>NaN</td>\n",
       "    </tr>\n",
       "    <tr>\n",
       "      <th>1</th>\n",
       "      <td>100005</td>\n",
       "      <td>0</td>\n",
       "      <td>0</td>\n",
       "      <td>0</td>\n",
       "      <td>99000.0</td>\n",
       "      <td>222768.0</td>\n",
       "      <td>17370.0</td>\n",
       "      <td>180000.0</td>\n",
       "      <td>0</td>\n",
       "      <td>0</td>\n",
       "      <td>...</td>\n",
       "      <td>NaN</td>\n",
       "      <td>NaN</td>\n",
       "      <td>0.0</td>\n",
       "      <td>NaN</td>\n",
       "      <td>NaN</td>\n",
       "      <td>NaN</td>\n",
       "      <td>0.000000</td>\n",
       "      <td>1.000000</td>\n",
       "      <td>0.000000</td>\n",
       "      <td>NaN</td>\n",
       "    </tr>\n",
       "    <tr>\n",
       "      <th>2</th>\n",
       "      <td>100013</td>\n",
       "      <td>0</td>\n",
       "      <td>0</td>\n",
       "      <td>1</td>\n",
       "      <td>202500.0</td>\n",
       "      <td>663264.0</td>\n",
       "      <td>69777.0</td>\n",
       "      <td>630000.0</td>\n",
       "      <td>-1</td>\n",
       "      <td>0</td>\n",
       "      <td>...</td>\n",
       "      <td>-92.0</td>\n",
       "      <td>-92.0</td>\n",
       "      <td>-1777.5</td>\n",
       "      <td>0.926648</td>\n",
       "      <td>0.926648</td>\n",
       "      <td>0.926648</td>\n",
       "      <td>0.500000</td>\n",
       "      <td>0.500000</td>\n",
       "      <td>0.000000</td>\n",
       "      <td>NaN</td>\n",
       "    </tr>\n",
       "    <tr>\n",
       "      <th>3</th>\n",
       "      <td>100028</td>\n",
       "      <td>0</td>\n",
       "      <td>1</td>\n",
       "      <td>0</td>\n",
       "      <td>315000.0</td>\n",
       "      <td>1575000.0</td>\n",
       "      <td>49018.5</td>\n",
       "      <td>1575000.0</td>\n",
       "      <td>0</td>\n",
       "      <td>0</td>\n",
       "      <td>...</td>\n",
       "      <td>NaN</td>\n",
       "      <td>NaN</td>\n",
       "      <td>0.0</td>\n",
       "      <td>NaN</td>\n",
       "      <td>NaN</td>\n",
       "      <td>NaN</td>\n",
       "      <td>0.000000</td>\n",
       "      <td>1.000000</td>\n",
       "      <td>0.000000</td>\n",
       "      <td>NaN</td>\n",
       "    </tr>\n",
       "    <tr>\n",
       "      <th>4</th>\n",
       "      <td>100038</td>\n",
       "      <td>0</td>\n",
       "      <td>0</td>\n",
       "      <td>1</td>\n",
       "      <td>180000.0</td>\n",
       "      <td>625500.0</td>\n",
       "      <td>32067.0</td>\n",
       "      <td>625500.0</td>\n",
       "      <td>0</td>\n",
       "      <td>0</td>\n",
       "      <td>...</td>\n",
       "      <td>NaN</td>\n",
       "      <td>NaN</td>\n",
       "      <td>-53995.5</td>\n",
       "      <td>0.893813</td>\n",
       "      <td>0.893813</td>\n",
       "      <td>0.893813</td>\n",
       "      <td>0.000000</td>\n",
       "      <td>1.000000</td>\n",
       "      <td>0.000000</td>\n",
       "      <td>NaN</td>\n",
       "    </tr>\n",
       "    <tr>\n",
       "      <th>5</th>\n",
       "      <td>100042</td>\n",
       "      <td>0</td>\n",
       "      <td>1</td>\n",
       "      <td>1</td>\n",
       "      <td>270000.0</td>\n",
       "      <td>959688.0</td>\n",
       "      <td>34600.5</td>\n",
       "      <td>810000.0</td>\n",
       "      <td>0</td>\n",
       "      <td>1</td>\n",
       "      <td>...</td>\n",
       "      <td>401.0</td>\n",
       "      <td>401.0</td>\n",
       "      <td>-84289.5</td>\n",
       "      <td>0.919861</td>\n",
       "      <td>0.919861</td>\n",
       "      <td>0.919861</td>\n",
       "      <td>0.000000</td>\n",
       "      <td>1.000000</td>\n",
       "      <td>0.000000</td>\n",
       "      <td>NaN</td>\n",
       "    </tr>\n",
       "    <tr>\n",
       "      <th>6</th>\n",
       "      <td>100057</td>\n",
       "      <td>0</td>\n",
       "      <td>0</td>\n",
       "      <td>1</td>\n",
       "      <td>180000.0</td>\n",
       "      <td>499221.0</td>\n",
       "      <td>22117.5</td>\n",
       "      <td>373500.0</td>\n",
       "      <td>0</td>\n",
       "      <td>0</td>\n",
       "      <td>...</td>\n",
       "      <td>182.0</td>\n",
       "      <td>130.0</td>\n",
       "      <td>-10174.5</td>\n",
       "      <td>0.889868</td>\n",
       "      <td>1.249986</td>\n",
       "      <td>1.069927</td>\n",
       "      <td>1.000000</td>\n",
       "      <td>0.000000</td>\n",
       "      <td>0.000000</td>\n",
       "      <td>NaN</td>\n",
       "    </tr>\n",
       "    <tr>\n",
       "      <th>7</th>\n",
       "      <td>100065</td>\n",
       "      <td>0</td>\n",
       "      <td>0</td>\n",
       "      <td>0</td>\n",
       "      <td>166500.0</td>\n",
       "      <td>180000.0</td>\n",
       "      <td>14220.0</td>\n",
       "      <td>180000.0</td>\n",
       "      <td>0</td>\n",
       "      <td>0</td>\n",
       "      <td>...</td>\n",
       "      <td>NaN</td>\n",
       "      <td>NaN</td>\n",
       "      <td>0.0</td>\n",
       "      <td>NaN</td>\n",
       "      <td>NaN</td>\n",
       "      <td>NaN</td>\n",
       "      <td>0.000000</td>\n",
       "      <td>1.000000</td>\n",
       "      <td>0.000000</td>\n",
       "      <td>NaN</td>\n",
       "    </tr>\n",
       "    <tr>\n",
       "      <th>8</th>\n",
       "      <td>100066</td>\n",
       "      <td>0</td>\n",
       "      <td>1</td>\n",
       "      <td>0</td>\n",
       "      <td>315000.0</td>\n",
       "      <td>364896.0</td>\n",
       "      <td>28957.5</td>\n",
       "      <td>315000.0</td>\n",
       "      <td>0</td>\n",
       "      <td>1</td>\n",
       "      <td>...</td>\n",
       "      <td>1041.0</td>\n",
       "      <td>221.0</td>\n",
       "      <td>-95040.0</td>\n",
       "      <td>0.825627</td>\n",
       "      <td>1.000000</td>\n",
       "      <td>0.926918</td>\n",
       "      <td>0.250000</td>\n",
       "      <td>0.625000</td>\n",
       "      <td>0.125000</td>\n",
       "      <td>NaN</td>\n",
       "    </tr>\n",
       "    <tr>\n",
       "      <th>9</th>\n",
       "      <td>100067</td>\n",
       "      <td>0</td>\n",
       "      <td>1</td>\n",
       "      <td>1</td>\n",
       "      <td>162000.0</td>\n",
       "      <td>45000.0</td>\n",
       "      <td>5337.0</td>\n",
       "      <td>45000.0</td>\n",
       "      <td>1</td>\n",
       "      <td>0</td>\n",
       "      <td>...</td>\n",
       "      <td>172.0</td>\n",
       "      <td>-30.0</td>\n",
       "      <td>-83160.0</td>\n",
       "      <td>0.844024</td>\n",
       "      <td>1.250066</td>\n",
       "      <td>0.993298</td>\n",
       "      <td>0.176471</td>\n",
       "      <td>0.705882</td>\n",
       "      <td>0.117647</td>\n",
       "      <td>NaN</td>\n",
       "    </tr>\n",
       "  </tbody>\n",
       "</table>\n",
       "<p>10 rows × 462 columns</p>\n",
       "</div>"
      ],
      "text/plain": [
       "   SK_ID_CURR  NAME_CONTRACT_TYPE  CODE_GENDER  FLAG_OWN_CAR  \\\n",
       "0      100001                   0            1             0   \n",
       "1      100005                   0            0             0   \n",
       "2      100013                   0            0             1   \n",
       "3      100028                   0            1             0   \n",
       "4      100038                   0            0             1   \n",
       "5      100042                   0            1             1   \n",
       "6      100057                   0            0             1   \n",
       "7      100065                   0            0             0   \n",
       "8      100066                   0            1             0   \n",
       "9      100067                   0            1             1   \n",
       "\n",
       "   AMT_INCOME_TOTAL  AMT_CREDIT  AMT_ANNUITY  AMT_GOODS_PRICE  \\\n",
       "0          135000.0    568800.0      20560.5         450000.0   \n",
       "1           99000.0    222768.0      17370.0         180000.0   \n",
       "2          202500.0    663264.0      69777.0         630000.0   \n",
       "3          315000.0   1575000.0      49018.5        1575000.0   \n",
       "4          180000.0    625500.0      32067.0         625500.0   \n",
       "5          270000.0    959688.0      34600.5         810000.0   \n",
       "6          180000.0    499221.0      22117.5         373500.0   \n",
       "7          166500.0    180000.0      14220.0         180000.0   \n",
       "8          315000.0    364896.0      28957.5         315000.0   \n",
       "9          162000.0     45000.0       5337.0          45000.0   \n",
       "\n",
       "   NAME_TYPE_SUITE  NAME_INCOME_TYPE  ...  \\\n",
       "0                0                 0  ...   \n",
       "1                0                 0  ...   \n",
       "2               -1                 0  ...   \n",
       "3                0                 0  ...   \n",
       "4                0                 0  ...   \n",
       "5                0                 1  ...   \n",
       "6                0                 0  ...   \n",
       "7                0                 0  ...   \n",
       "8                0                 1  ...   \n",
       "9                1                 0  ...   \n",
       "\n",
       "   PREV_LAST24M_DAYS_LAST_DUE_1ST_VERSION_MAX  \\\n",
       "0                                         NaN   \n",
       "1                                         NaN   \n",
       "2                                       -92.0   \n",
       "3                                         NaN   \n",
       "4                                         NaN   \n",
       "5                                       401.0   \n",
       "6                                       182.0   \n",
       "7                                         NaN   \n",
       "8                                      1041.0   \n",
       "9                                       172.0   \n",
       "\n",
       "   PREV_LAST24M_DAYS_LAST_DUE_1ST_VERSION_MEAN  \\\n",
       "0                                          NaN   \n",
       "1                                          NaN   \n",
       "2                                        -92.0   \n",
       "3                                          NaN   \n",
       "4                                          NaN   \n",
       "5                                        401.0   \n",
       "6                                        130.0   \n",
       "7                                          NaN   \n",
       "8                                        221.0   \n",
       "9                                        -30.0   \n",
       "\n",
       "   PREV_LAST24M_APPLICATION_CREDIT_DIFF_MIN  \\\n",
       "0                                       NaN   \n",
       "1                                       0.0   \n",
       "2                                   -1777.5   \n",
       "3                                       0.0   \n",
       "4                                  -53995.5   \n",
       "5                                  -84289.5   \n",
       "6                                  -10174.5   \n",
       "7                                       0.0   \n",
       "8                                  -95040.0   \n",
       "9                                  -83160.0   \n",
       "\n",
       "   PREV_LAST24M_APPLICATION_CREDIT_RATIO_MIN  \\\n",
       "0                                        NaN   \n",
       "1                                        NaN   \n",
       "2                                   0.926648   \n",
       "3                                        NaN   \n",
       "4                                   0.893813   \n",
       "5                                   0.919861   \n",
       "6                                   0.889868   \n",
       "7                                        NaN   \n",
       "8                                   0.825627   \n",
       "9                                   0.844024   \n",
       "\n",
       "   PREV_LAST24M_APPLICATION_CREDIT_RATIO_MAX  \\\n",
       "0                                        NaN   \n",
       "1                                        NaN   \n",
       "2                                   0.926648   \n",
       "3                                        NaN   \n",
       "4                                   0.893813   \n",
       "5                                   0.919861   \n",
       "6                                   1.249986   \n",
       "7                                        NaN   \n",
       "8                                   1.000000   \n",
       "9                                   1.250066   \n",
       "\n",
       "   PREV_LAST24M_APPLICATION_CREDIT_RATIO_MEAN  \\\n",
       "0                                         NaN   \n",
       "1                                         NaN   \n",
       "2                                    0.926648   \n",
       "3                                         NaN   \n",
       "4                                    0.893813   \n",
       "5                                    0.919861   \n",
       "6                                    1.069927   \n",
       "7                                         NaN   \n",
       "8                                    0.926918   \n",
       "9                                    0.993298   \n",
       "\n",
       "   PREV_LAST24M_NAME_CONTRACT_TYPE_Consumer loans_MEAN  \\\n",
       "0                                                NaN     \n",
       "1                                           0.000000     \n",
       "2                                           0.500000     \n",
       "3                                           0.000000     \n",
       "4                                           0.000000     \n",
       "5                                           0.000000     \n",
       "6                                           1.000000     \n",
       "7                                           0.000000     \n",
       "8                                           0.250000     \n",
       "9                                           0.176471     \n",
       "\n",
       "   PREV_LAST24M_NAME_CONTRACT_TYPE_Cash loans_MEAN  \\\n",
       "0                                              NaN   \n",
       "1                                         1.000000   \n",
       "2                                         0.500000   \n",
       "3                                         1.000000   \n",
       "4                                         1.000000   \n",
       "5                                         1.000000   \n",
       "6                                         0.000000   \n",
       "7                                         1.000000   \n",
       "8                                         0.625000   \n",
       "9                                         0.705882   \n",
       "\n",
       "   PREV_LAST24M_NAME_CONTRACT_TYPE_Revolving loans_MEAN  TARGET  \n",
       "0                                                NaN        NaN  \n",
       "1                                           0.000000        NaN  \n",
       "2                                           0.000000        NaN  \n",
       "3                                           0.000000        NaN  \n",
       "4                                           0.000000        NaN  \n",
       "5                                           0.000000        NaN  \n",
       "6                                           0.000000        NaN  \n",
       "7                                           0.000000        NaN  \n",
       "8                                           0.125000        NaN  \n",
       "9                                           0.117647        NaN  \n",
       "\n",
       "[10 rows x 462 columns]"
      ]
     },
     "execution_count": 20,
     "metadata": {},
     "output_type": "execute_result"
    }
   ],
   "source": [
    "# Loading the test_merged dataset\n",
    "test_merged = pd.read_csv('./final_test_data.csv')\n",
    "\n",
    "# Checking the test_merged dataset\n",
    "test_merged.head(10)"
   ]
  },
  {
   "cell_type": "code",
   "execution_count": 21,
   "id": "b8593c74",
   "metadata": {
    "execution": {
     "iopub.execute_input": "2024-05-05T02:11:52.303724Z",
     "iopub.status.busy": "2024-05-05T02:11:52.303394Z",
     "iopub.status.idle": "2024-05-05T02:11:53.614012Z",
     "shell.execute_reply": "2024-05-05T02:11:53.612003Z"
    },
    "papermill": {
     "duration": 1.319678,
     "end_time": "2024-05-05T02:11:53.617609",
     "exception": false,
     "start_time": "2024-05-05T02:11:52.297931",
     "status": "completed"
    },
    "tags": []
   },
   "outputs": [],
   "source": [
    "# Loading the scaled test data numpy array dataset\n",
    "import numpy as np\n",
    "\n",
    "# Load the scaled test data from the NumPy binary file\n",
    "test = np.load('./test.npy')"
   ]
  },
  {
   "cell_type": "markdown",
   "id": "24138828",
   "metadata": {
    "papermill": {
     "duration": 0.003572,
     "end_time": "2024-05-05T02:11:53.625396",
     "exception": false,
     "start_time": "2024-05-05T02:11:53.621824",
     "status": "completed"
    },
    "tags": []
   },
   "source": [
    "## Loading the LGBM Classifier Model"
   ]
  },
  {
   "cell_type": "code",
   "execution_count": 22,
   "id": "2cca90f0",
   "metadata": {
    "execution": {
     "iopub.execute_input": "2024-05-05T02:11:53.635933Z",
     "iopub.status.busy": "2024-05-05T02:11:53.635503Z",
     "iopub.status.idle": "2024-05-05T02:11:53.682638Z",
     "shell.execute_reply": "2024-05-05T02:11:53.679227Z"
    },
    "papermill": {
     "duration": 0.055853,
     "end_time": "2024-05-05T02:11:53.685564",
     "exception": false,
     "start_time": "2024-05-05T02:11:53.629711",
     "status": "completed"
    },
    "tags": []
   },
   "outputs": [
    {
     "name": "stdout",
     "output_type": "stream",
     "text": [
      "<class 'lightgbm.sklearn.LGBMClassifier'>\n"
     ]
    }
   ],
   "source": [
    "# Loading the LGBM Classifier Model\n",
    "# lgbmc = joblib.load('./hcdr_final_lgbmclass_model.joblib')\n",
    "lgbmc = joblib.load('./best_model.joblib')\n",
    "print(type(lgbmc))"
   ]
  },
  {
   "cell_type": "markdown",
   "id": "ec567ed8",
   "metadata": {
    "papermill": {
     "duration": 0.003472,
     "end_time": "2024-05-05T02:11:53.693074",
     "exception": false,
     "start_time": "2024-05-05T02:11:53.689602",
     "status": "completed"
    },
    "tags": []
   },
   "source": [
    "# Prediction"
   ]
  },
  {
   "cell_type": "code",
   "execution_count": 23,
   "id": "e98ca598",
   "metadata": {
    "_cell_guid": "b1076dfc-b9ad-4769-8c92-a6c4dae69d19",
    "_uuid": "8f2839f25d086af736a60e9eeb907d3b93b6e0e5",
    "execution": {
     "iopub.execute_input": "2024-05-05T02:11:53.702771Z",
     "iopub.status.busy": "2024-05-05T02:11:53.702283Z",
     "iopub.status.idle": "2024-05-05T02:11:54.250398Z",
     "shell.execute_reply": "2024-05-05T02:11:54.249355Z"
    },
    "papermill": {
     "duration": 0.555955,
     "end_time": "2024-05-05T02:11:54.252741",
     "exception": false,
     "start_time": "2024-05-05T02:11:53.696786",
     "status": "completed"
    },
    "tags": []
   },
   "outputs": [
    {
     "name": "stdout",
     "output_type": "stream",
     "text": [
      "[LightGBM] [Warning] Accuracy may be bad since you didn't explicitly set num_leaves OR 2^max_depth > num_leaves. (num_leaves=31).\n"
     ]
    }
   ],
   "source": [
    "lgbm_pred = lgbmc.predict_proba(test)[:, 1]"
   ]
  },
  {
   "cell_type": "code",
   "execution_count": 24,
   "id": "8dd75236",
   "metadata": {
    "execution": {
     "iopub.execute_input": "2024-05-05T02:11:54.262496Z",
     "iopub.status.busy": "2024-05-05T02:11:54.261981Z",
     "iopub.status.idle": "2024-05-05T02:11:54.272802Z",
     "shell.execute_reply": "2024-05-05T02:11:54.271569Z"
    },
    "papermill": {
     "duration": 0.01832,
     "end_time": "2024-05-05T02:11:54.274824",
     "exception": false,
     "start_time": "2024-05-05T02:11:54.256504",
     "status": "completed"
    },
    "tags": []
   },
   "outputs": [
    {
     "name": "stderr",
     "output_type": "stream",
     "text": [
      "/var/folders/1h/1n2c6vgn26s1qd7nj20z38hm0000gp/T/ipykernel_17139/2591123886.py:2: SettingWithCopyWarning: \n",
      "A value is trying to be set on a copy of a slice from a DataFrame.\n",
      "Try using .loc[row_indexer,col_indexer] = value instead\n",
      "\n",
      "See the caveats in the documentation: https://pandas.pydata.org/pandas-docs/stable/user_guide/indexing.html#returning-a-view-versus-a-copy\n",
      "  submit['TARGET'] = lgbm_pred\n"
     ]
    }
   ],
   "source": [
    "submit = test_merged[['SK_ID_CURR']]\n",
    "submit['TARGET'] = lgbm_pred"
   ]
  },
  {
   "cell_type": "code",
   "execution_count": 25,
   "id": "a26f1951",
   "metadata": {
    "execution": {
     "iopub.execute_input": "2024-05-05T02:11:54.286144Z",
     "iopub.status.busy": "2024-05-05T02:11:54.285776Z",
     "iopub.status.idle": "2024-05-05T02:11:54.299847Z",
     "shell.execute_reply": "2024-05-05T02:11:54.298468Z"
    },
    "papermill": {
     "duration": 0.023471,
     "end_time": "2024-05-05T02:11:54.302510",
     "exception": false,
     "start_time": "2024-05-05T02:11:54.279039",
     "status": "completed"
    },
    "tags": []
   },
   "outputs": [
    {
     "data": {
      "text/html": [
       "<div>\n",
       "<style scoped>\n",
       "    .dataframe tbody tr th:only-of-type {\n",
       "        vertical-align: middle;\n",
       "    }\n",
       "\n",
       "    .dataframe tbody tr th {\n",
       "        vertical-align: top;\n",
       "    }\n",
       "\n",
       "    .dataframe thead th {\n",
       "        text-align: right;\n",
       "    }\n",
       "</style>\n",
       "<table border=\"1\" class=\"dataframe\">\n",
       "  <thead>\n",
       "    <tr style=\"text-align: right;\">\n",
       "      <th></th>\n",
       "      <th>SK_ID_CURR</th>\n",
       "      <th>TARGET</th>\n",
       "    </tr>\n",
       "  </thead>\n",
       "  <tbody>\n",
       "    <tr>\n",
       "      <th>0</th>\n",
       "      <td>100001</td>\n",
       "      <td>0.042176</td>\n",
       "    </tr>\n",
       "    <tr>\n",
       "      <th>1</th>\n",
       "      <td>100005</td>\n",
       "      <td>0.163820</td>\n",
       "    </tr>\n",
       "    <tr>\n",
       "      <th>2</th>\n",
       "      <td>100013</td>\n",
       "      <td>0.035550</td>\n",
       "    </tr>\n",
       "    <tr>\n",
       "      <th>3</th>\n",
       "      <td>100028</td>\n",
       "      <td>0.053229</td>\n",
       "    </tr>\n",
       "    <tr>\n",
       "      <th>4</th>\n",
       "      <td>100038</td>\n",
       "      <td>0.159516</td>\n",
       "    </tr>\n",
       "  </tbody>\n",
       "</table>\n",
       "</div>"
      ],
      "text/plain": [
       "   SK_ID_CURR    TARGET\n",
       "0      100001  0.042176\n",
       "1      100005  0.163820\n",
       "2      100013  0.035550\n",
       "3      100028  0.053229\n",
       "4      100038  0.159516"
      ]
     },
     "execution_count": 25,
     "metadata": {},
     "output_type": "execute_result"
    }
   ],
   "source": [
    "submit.head()"
   ]
  },
  {
   "cell_type": "markdown",
   "id": "fd4e5c2e",
   "metadata": {
    "papermill": {
     "duration": 0.00357,
     "end_time": "2024-05-05T02:11:54.310353",
     "exception": false,
     "start_time": "2024-05-05T02:11:54.306783",
     "status": "completed"
    },
    "tags": []
   },
   "source": [
    "# Submission"
   ]
  },
  {
   "cell_type": "code",
   "execution_count": 26,
   "id": "e38c1cd2",
   "metadata": {
    "execution": {
     "iopub.execute_input": "2024-05-05T02:11:54.319678Z",
     "iopub.status.busy": "2024-05-05T02:11:54.319353Z",
     "iopub.status.idle": "2024-05-05T02:11:54.400893Z",
     "shell.execute_reply": "2024-05-05T02:11:54.398341Z"
    },
    "papermill": {
     "duration": 0.08969,
     "end_time": "2024-05-05T02:11:54.403851",
     "exception": false,
     "start_time": "2024-05-05T02:11:54.314161",
     "status": "completed"
    },
    "tags": []
   },
   "outputs": [],
   "source": [
    "submit.to_csv('submission01.csv', index = False, header=True)"
   ]
  }
 ],
 "metadata": {
  "kaggle": {
   "accelerator": "none",
   "dataSources": [
    {
     "databundleVersionId": 860599,
     "sourceId": 9120,
     "sourceType": "competition"
    },
    {
     "datasetId": 4940478,
     "sourceId": 8317867,
     "sourceType": "datasetVersion"
    }
   ],
   "dockerImageVersionId": 30698,
   "isGpuEnabled": false,
   "isInternetEnabled": true,
   "language": "python",
   "sourceType": "notebook"
  },
  "kernelspec": {
   "display_name": "Python 3",
   "language": "python",
   "name": "python3"
  },
  "language_info": {
   "codemirror_mode": {
    "name": "ipython",
    "version": 3
   },
   "file_extension": ".py",
   "mimetype": "text/x-python",
   "name": "python",
   "nbconvert_exporter": "python",
   "pygments_lexer": "ipython3",
   "version": "3.11.1"
  },
  "papermill": {
   "default_parameters": {},
   "duration": 13.636962,
   "end_time": "2024-05-05T02:11:55.130487",
   "environment_variables": {},
   "exception": null,
   "input_path": "__notebook__.ipynb",
   "output_path": "__notebook__.ipynb",
   "parameters": {},
   "start_time": "2024-05-05T02:11:41.493525",
   "version": "2.5.0"
  }
 },
 "nbformat": 4,
 "nbformat_minor": 5
}
